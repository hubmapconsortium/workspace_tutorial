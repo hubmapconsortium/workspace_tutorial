{
 "cells": [
  {
   "cell_type": "markdown",
   "metadata": {},
   "source": [
    "# 02. Data Examination\n",
    "\n",
    "This module shows the types of data and pipelines that are in the [HuBMAP Data Portal](https://portal.hubmapconsortium.org/). It shows how to retrieve metadata, and how to filter datasets based on this."
   ]
  },
  {
   "cell_type": "markdown",
   "metadata": {},
   "source": [
    "## Data Types\n",
    "There are many dataset types. On the [Datasets page](https://portal.hubmapconsortium.org/search?entity_type[0]=Dataset), you see a filter on the left with many dataset types.\n",
    "\n",
    "There are unprocessed and processed datasets in the Portal. Click the collapsing arrow next to 'CODEX'. It shows two subsections, 'CODEX' and 'CODEX [Cytokit + SPRM]'. The second subsection ('CODEX [Cytokit + SPRM]') are the processed datasets. One of these is [HBM926.SHNZ.594](https://portal.hubmapconsortium.org/browse/dataset/69c70762689b20308bb049ac49653342). "
   ]
  },
  {
   "cell_type": "markdown",
   "metadata": {},
   "source": [
    "### Exploring a Dataset on the Portal page.\n",
    "Let's explore the detail page of [HBM926.SHNZ.594](https://portal.hubmapconsortium.org/browse/dataset/69c70762689b20308bb049ac49653342).\n",
    "- The Data Products section lists a few of the available files that are available in this dataset. \n",
    "- A Vitessce Visualization is automatically rendered for eachd dataset. Explore the different panels to get a gist of the data in the dataset.\n",
    "-  In the Provenance section (under the Visualization), in the Table on the right, we can see the primary dataset that this processed dataset is derived from. \n",
    "- In the Provenance section under Analysis Details, the analyses pipelines are listed. These are the ingest pipelines that the primary dataset is ingested into.\n",
    "- In the Metadata section, we can find a few key metadata values. \n",
    "- In the Files section, we can see all the files that are available.\n",
    "\n",
    "We can also retrieve all of this information programmatically."
   ]
  },
  {
   "cell_type": "markdown",
   "metadata": {},
   "source": [
    "### Exploring a Dataset through the search API."
   ]
  },
  {
   "cell_type": "code",
   "execution_count": null,
   "metadata": {},
   "outputs": [],
   "source": []
  }
 ],
 "metadata": {
  "language_info": {
   "name": "python"
  }
 },
 "nbformat": 4,
 "nbformat_minor": 2
}
