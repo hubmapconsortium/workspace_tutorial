{
 "cells": [
  {
   "cell_type": "markdown",
   "metadata": {},
   "source": [
    "# Hackathon Mini Challenges Answer Key"
   ]
  },
  {
   "cell_type": "markdown",
   "metadata": {},
   "source": [
    "1. Find all datasets with _assay_display_name_ `Slideseq [Salmon]` that have a female donor between the ages 40 and 45\n",
    "\n",
    "2. Find all the data products for all of these datasets and create a file matching format of HuBMAP CLT manifest.\n",
    "\n",
    "3. Find datasets for a celltype with the Cells API.\n",
    "\n",
    "4. Create or explore your own widgets!"
   ]
  },
  {
   "cell_type": "code",
   "execution_count": null,
   "metadata": {},
   "outputs": [],
   "source": [
    "# !pip install numpy pandas requests wheel hubmap_template_helper \n",
    "# !pip install hubmap_api_py_client"
   ]
  },
  {
   "cell_type": "code",
   "execution_count": null,
   "metadata": {},
   "outputs": [],
   "source": [
    "# Importing the required packages\n",
    "import requests\n",
    "import json\n",
    "from hubmap_api_py_client import Client\n",
    "\n",
    "from hubmap_template_helper import uuids as hth_uuids"
   ]
  },
  {
   "cell_type": "markdown",
   "metadata": {},
   "source": [
    "## Mini Challenge #1: Find datasets\n",
    "\n",
    "_In this challenge, we will use the search API to find specific datasets._\n",
    "\n",
    "**Task: Find all datasets in the Portal with the assay_display_name “Slideseq [Salmon]” that have a female donor between the ages of 45 and 55.**\n",
    "\n",
    "_Hint: This should give 12 datasets._"
   ]
  },
  {
   "cell_type": "code",
   "execution_count": null,
   "metadata": {},
   "outputs": [],
   "source": [
    "search_api = \"https://search.api.hubmapconsortium.org/v3/portal/search\"\n",
    "\n",
    "hits = json.loads(\n",
    "    requests.post(\n",
    "        search_api,\n",
    "        json={\n",
    "            \"size\": 100,\n",
    "            \"query\": {\n",
    "                \"bool\": {\n",
    "                    \"must\": [\n",
    "                        {\n",
    "                            \"term\": {\n",
    "                                \"assay_display_name.keyword\": \"Slideseq [Salmon]\"\n",
    "                            }\n",
    "                        },\n",
    "                        {\n",
    "                            \"term\": {\n",
    "                                \"donor.mapped_metadata.sex.keyword\": \"Female\"\n",
    "                            }\n",
    "                        },\n",
    "                        {\n",
    "                            \"term\": {\n",
    "                                \"donor.mapped_metadata.age_unit.keyword\": \"years\"\n",
    "                            }\n",
    "                        }\n",
    "                        ,{\n",
    "                            \"range\": {\n",
    "                                \"donor.mapped_metadata.age_value\": {\n",
    "                                    \"gte\": 45,\n",
    "                                    \"lte\": 55\n",
    "                                }\n",
    "                            }\n",
    "                        }\n",
    "                    ],\n",
    "                    \"filter\": [\n",
    "                        {\n",
    "                            \"bool\": {\n",
    "                                \"must_not\": {\n",
    "                                    \"exists\": {\n",
    "                                        \"field\": \"next_revision_uuid\"\n",
    "                                    }\n",
    "                                }\n",
    "                            }\n",
    "                        },\n",
    "                        {\n",
    "                            \"term\": {\n",
    "                                \"entity_type.keyword\": \"Dataset\"\n",
    "                            }\n",
    "                        }\n",
    "                    ]\n",
    "                }\n",
    "            },\n",
    "            \"_source\": [\n",
    "                \"hubmap_id\",\n",
    "                \"assay_display_name\",\n",
    "                \"donor.mapped_metadata.sex\",\n",
    "                \"donor.mapped_metadata.age_unit\",\n",
    "                \"donor.mapped_metadata.age_value\",\n",
    "                \"files\"\n",
    "            ],\n",
    "            \"sort\": [\n",
    "                {\n",
    "                    \"donor.mapped_metadata.age_value\": {\n",
    "                        \"order\": \"asc\"\n",
    "                    }\n",
    "                }\n",
    "            ]\n",
    "        }\n",
    "    ).text\n",
    ")['hits']['hits']\n",
    "\n",
    "len(hits)"
   ]
  },
  {
   "cell_type": "code",
   "execution_count": null,
   "metadata": {},
   "outputs": [],
   "source": [
    "uuids = [hit['_id'] for hit in hits]\n",
    "uuids"
   ]
  },
  {
   "cell_type": "markdown",
   "metadata": {},
   "source": [
    "## Mini Challenge #2: Create manifest for CLT\n",
    "\n",
    "_The HuBMAP CLT (Command Line Transfer) allows for easy downloading of files. For this, we need a manifest file with the desired files. In this challenge, we will create a manifest.txt. We won’t use the CLT, but you can try this out later._\n",
    "\n",
    "_A manifest file looks like this:_\n",
    "\n",
    ">HBM738.KGBN.464   leiden_cluster_rna.pdf\n",
    "\n",
    ">HBM745.HTBD.332   expr.h5ad\n",
    "\n",
    ">HBM277.SBVV.838   /\t\t\t\t\t<- this downloads all files in the dataset\n",
    "\n",
    "\n",
    "**Task: For the datasets in Challenge #1, find all files that are a data product and create a manifest file.**\n",
    "\n",
    "_Hint: This should give 36 data products._\n"
   ]
  },
  {
   "cell_type": "code",
   "execution_count": null,
   "metadata": {},
   "outputs": [],
   "source": [
    "data_products = []\n",
    "for hit in hits:\n",
    "    for file in hit[\"_source\"][\"files\"]:\n",
    "        # print(file)\n",
    "        if \"is_data_product\" in file.keys():\n",
    "            if file[\"is_data_product\"]: \n",
    "                data_products.append([hit[\"_source\"][\"hubmap_id\"], file[\"rel_path\"]])\n",
    "       "
   ]
  },
  {
   "cell_type": "code",
   "execution_count": null,
   "metadata": {},
   "outputs": [],
   "source": [
    "data_products[0:5]"
   ]
  },
  {
   "cell_type": "code",
   "execution_count": null,
   "metadata": {},
   "outputs": [],
   "source": [
    "with open(\"manifest.txt\", \"w\") as f:\n",
    "    for data_product in data_products:\n",
    "        f.write(f\"{data_product[0]} {data_product[1]}\")\n",
    "        f.write(\"\\n\")"
   ]
  },
  {
   "cell_type": "markdown",
   "metadata": {},
   "source": [
    "## Mini Challenge #3: Use the Cells API\n",
    "\n",
    "_In this challenge we will use the cells API: https://github.com/hubmapconsortium/hubmap-api-py-client/blob/main/examples/select_celltypes.md_\n",
    "\n",
    "_Create a client like this_\n",
    "\n",
    "`Client = Client(‘https://cells.api.hubmapconsortium.org/api/’)`\n",
    "\n",
    "\n",
    "**Task: Find all datasets that have celltype “CL:000057”. For each dataset and find all the cell types that this dataset contains. Also find the assay type of each dataset. Create a heatmap of these results.**\n",
    "\n",
    "_Hint: there should be 43 datasets that contain this celltype_\n",
    "_Hint: use the search API to find the assay type_\n"
   ]
  },
  {
   "cell_type": "code",
   "execution_count": null,
   "metadata": {},
   "outputs": [],
   "source": [
    "# endpoints\n",
    "client = Client('https://cells.api.hubmapconsortium.org/api/')"
   ]
  },
  {
   "cell_type": "code",
   "execution_count": null,
   "metadata": {},
   "outputs": [],
   "source": [
    "# get the first cell type (CL:000057)\n",
    "cell_type = client.select_celltypes().get_list()[0]['grouping_name']\n",
    "\n",
    "# get the datasets with this celltype\n",
    "uuids = [hit[\"uuid\"] for hit in list(client.select_datasets(where=\"celltype\",has=[cell_type]).get_list())]"
   ]
  },
  {
   "cell_type": "code",
   "execution_count": null,
   "metadata": {},
   "outputs": [],
   "source": [
    "# for all datasets, get the cell types\n",
    "mapping = {}\n",
    "for uuid in uuids[0:2]: \n",
    "    cell_type_uuids = list(client.select_celltypes(where=\"dataset\", has=[uuid]).get_list())\n",
    "    cells = [cell[\"grouping_name\"] for cell in cell_type_uuids]\n",
    "    mapping[uuid] = cells\n",
    "mapping"
   ]
  },
  {
   "cell_type": "markdown",
   "metadata": {},
   "source": [
    "## Mini Challenge #4: Widgets\n",
    "Find your favourite widget or create a new widget (e.g., with anywidget) and share it with others.\n",
    "\n",
    "You can find existing widgets created with anywidget on \n",
    "\n",
    "https://anywidget.dev/en/community/\n"
   ]
  }
 ],
 "metadata": {
  "kernelspec": {
   "display_name": ".venv",
   "language": "python",
   "name": "python3"
  },
  "language_info": {
   "codemirror_mode": {
    "name": "ipython",
    "version": 3
   },
   "file_extension": ".py",
   "mimetype": "text/x-python",
   "name": "python",
   "nbconvert_exporter": "python",
   "pygments_lexer": "ipython3",
   "version": "3.11.4"
  }
 },
 "nbformat": 4,
 "nbformat_minor": 2
}
