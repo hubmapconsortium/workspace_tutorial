{
 "cells": [
  {
   "cell_type": "markdown",
   "metadata": {},
   "source": [
    "# 04. Widgets & Visualizations\n",
    "\n",
    "This module shows how to work with Jupyter Widgets with anywidget. It also shows how to create a Vitessce visualization of Portal data."
   ]
  },
  {
   "cell_type": "markdown",
   "metadata": {},
   "source": [
    "## Introduction to anywidgets"
   ]
  },
  {
   "cell_type": "markdown",
   "metadata": {},
   "source": [
    "[Jupyter Widgets](https://ipywidgets.readthedocs.io/en/stable/) are interactive browser controls for notebooks. To solve the issue of multiple platforms with multiple ways of discovering front-end code and loading and executing JavaScript, [anywidget](https://anywidget.dev) was created."
   ]
  },
  {
   "cell_type": "code",
   "execution_count": null,
   "metadata": {},
   "outputs": [],
   "source": [
    "# !pip install traitlets vitessce[all]==3.3.1"
   ]
  },
  {
   "cell_type": "code",
   "execution_count": null,
   "metadata": {},
   "outputs": [],
   "source": [
    "import traitlets\n",
    "import anywidget\n",
    "\n",
    "from vitessce import VitessceChainableConfig, VitessceConfigDatasetFile"
   ]
  },
  {
   "cell_type": "markdown",
   "metadata": {},
   "source": [
    "In an anywidget, JavaScript can be added with the __esm_. Let's create a simple button."
   ]
  },
  {
   "cell_type": "code",
   "execution_count": null,
   "metadata": {},
   "outputs": [],
   "source": [
    "class CounterWidget(anywidget.AnyWidget):\n",
    "    _esm = \"\"\"\n",
    "    function render({ model, el }) {\n",
    "      let btn = document.createElement(\"button\");\n",
    "      btn.innerHTML = `count is ?`;\n",
    "      el.appendChild(btn);\n",
    "    }\n",
    "    export default { render };\n",
    "    \"\"\"\n",
    "\n",
    "counter = CounterWidget()\n",
    "counter"
   ]
  },
  {
   "cell_type": "markdown",
   "metadata": {},
   "source": [
    "This creates a button, but it does not yet have any functionality. We can create a value with a traitlet, which we can then refer to. If we add a click event listener, we can then increase the value of the button when we click on it. "
   ]
  },
  {
   "cell_type": "code",
   "execution_count": null,
   "metadata": {},
   "outputs": [],
   "source": [
    "# this example comes from https://anywidget.dev\n",
    "class CounterWidget(anywidget.AnyWidget):\n",
    "    _esm = \"\"\"\n",
    "    function render({ model, el }) {\n",
    "      let count = () => model.get(\"value\");\n",
    "      let btn = document.createElement(\"button\");\n",
    "      btn.innerHTML = `count is ${count()}`;\n",
    "      btn.addEventListener(\"click\", () => {\n",
    "        model.set(\"value\", count() + 1);\n",
    "        model.save_changes();\n",
    "      });\n",
    "      model.on(\"change:value\", () => {\n",
    "        btn.innerHTML = `count is ${count()}`;\n",
    "      });\n",
    "      el.appendChild(btn);\n",
    "    }\n",
    "    export default { render };\n",
    "    \"\"\"\n",
    "    value = traitlets.Int(0).tag(sync=True)\n",
    "\n",
    "counter = CounterWidget()\n",
    "counter"
   ]
  },
  {
   "cell_type": "markdown",
   "metadata": {},
   "source": [
    "We can then get the actual value of the button. Run the cell below. Then click on the button a few more times, and run the cell below again. See how it updates?"
   ]
  },
  {
   "cell_type": "code",
   "execution_count": null,
   "metadata": {},
   "outputs": [],
   "source": [
    "counter.value"
   ]
  },
  {
   "cell_type": "markdown",
   "metadata": {},
   "source": [
    "## Introduction to Vitessce\n",
    "\n",
    "We can use these widgets to embed interactive visualizations. [Vitessce](http://vitessce.io) is a tool for exploration of spatial single cell data. Vitessce uses a config to create a visualization. We show an example below."
   ]
  },
  {
   "cell_type": "code",
   "execution_count": null,
   "metadata": {},
   "outputs": [],
   "source": [
    "conf = VitessceChainableConfig(\n",
    "    schema_version=\"1.0.15\", name=\"reg001_expr\", description=\"\"\n",
    ").add_dataset(\n",
    "    uid=\"A\",\n",
    "    name=\"SPRM\",\n",
    "    files=[\n",
    "        VitessceConfigDatasetFile(\n",
    "            file_type=\"anndata.zarr\",\n",
    "            url=\"https://assets.hubmapconsortium.org/69c70762689b20308bb049ac49653342/anndata-zarr/reg001_expr-anndata.zarr\",\n",
    "            options={\n",
    "                \"obsLocations\": {\"path\": \"obsm/xy\"},\n",
    "                \"obsEmbedding\": [\n",
    "                    {\"path\": \"obsm/tsne\", \"dims\": [0, 1], \"embeddingType\": \"t-SNE\"}\n",
    "                ],\n",
    "                \"obsSets\": [\n",
    "                    {\n",
    "                        \"name\": \"Cell K-Means [tSNE_All_Features]\",\n",
    "                        \"path\": \"obs/Cell K-Means [tSNE_All_Features]\",\n",
    "                    },\n",
    "                    {\n",
    "                        \"name\": \"Cell K-Means [Mean-All-SubRegions] Expression\",\n",
    "                        \"path\": \"obs/Cell K-Means [Mean-All-SubRegions] Expression\",\n",
    "                    },\n",
    "                    {\n",
    "                        \"name\": \"Cell K-Means [Mean] Expression\",\n",
    "                        \"path\": \"obs/Cell K-Means [Mean] Expression\",\n",
    "                    },\n",
    "                    {\n",
    "                        \"name\": \"Cell K-Means [Shape-Vectors]\",\n",
    "                        \"path\": \"obs/Cell K-Means [Shape-Vectors]\",\n",
    "                    },\n",
    "                    {\n",
    "                        \"name\": \"Cell K-Means [Texture]\",\n",
    "                        \"path\": \"obs/Cell K-Means [Texture]\",\n",
    "                    },\n",
    "                    {\n",
    "                        \"name\": \"Cell K-Means [Total] Expression\",\n",
    "                        \"path\": \"obs/Cell K-Means [Total] Expression\",\n",
    "                    },\n",
    "                    {\n",
    "                        \"name\": \"Cell K-Means [Covariance] Expression\",\n",
    "                        \"path\": \"obs/Cell K-Means [Covariance] Expression\",\n",
    "                    },\n",
    "                ],\n",
    "                \"obsFeatureMatrix\": {\"path\": \"X\"},\n",
    "            },\n",
    "        ),\n",
    "        VitessceConfigDatasetFile(\n",
    "            file_type=\"raster.json\",\n",
    "            options={\n",
    "                \"schemaVersion\": \"0.0.2\",\n",
    "                \"usePhysicalSizeScaling\": False,\n",
    "                \"images\": [\n",
    "                    {\n",
    "                        \"name\": \"reg001_expr\",\n",
    "                        \"type\": \"ome-tiff\",\n",
    "                        \"url\": \"https://assets.hubmapconsortium.org/69c70762689b20308bb049ac49653342/ometiff-pyramids/pipeline_output/expr/reg001_expr.ome.tif\",\n",
    "                        \"metadata\": {\n",
    "                            \"omeTiffOffsetsUrl\": \"https://assets.hubmapconsortium.org/69c70762689b20308bb049ac49653342/output_offsets/pipeline_output/expr/reg001_expr.offsets.json\",\n",
    "                            \"isBitmask\": False,\n",
    "                        },\n",
    "                    },\n",
    "                    {\n",
    "                        \"name\": \"reg001_mask\",\n",
    "                        \"type\": \"ome-tiff\",\n",
    "                        \"url\": \"https://assets.hubmapconsortium.org/69c70762689b20308bb049ac49653342/ometiff-pyramids/pipeline_output/mask/reg001_mask.ome.tif\",\n",
    "                        \"metadata\": {\n",
    "                            \"omeTiffOffsetsUrl\": \"https://assets.hubmapconsortium.org/69c70762689b20308bb049ac49653342/output_offsets/pipeline_output/mask/reg001_mask.offsets.json\",\n",
    "                            \"isBitmask\": True,\n",
    "                        },\n",
    "                    },\n",
    "                ],\n",
    "                \"renderLayers\": [\"reg001_expr\", \"reg001_mask\"],\n",
    "            },\n",
    "        ),\n",
    "    ],\n",
    ").set_coordination_value(\n",
    "    c_type=\"embeddingType\", c_scope=\"A\", c_value=\"t-SNE\"\n",
    ").add_view(\n",
    "    dataset_uid=\"A\", component=\"description\", x=0, y=8, w=3, h=4\n",
    ").add_view(\n",
    "    dataset_uid=\"A\", component=\"layerController\", x=0, y=0, w=3, h=8\n",
    ").add_view(\n",
    "    dataset_uid=\"A\", component=\"spatial\", x=3, y=0, w=4, h=8\n",
    ").add_view(\n",
    "    dataset_uid=\"A\",\n",
    "    component=\"scatterplot\",\n",
    "    x=7,\n",
    "    y=0,\n",
    "    w=3,\n",
    "    h=8,\n",
    "    coordination_scopes={\"embeddingType\": \"A\"},\n",
    ").add_view(\n",
    "    dataset_uid=\"A\", component=\"obsSets\", x=10, y=5, w=2, h=7\n",
    ").add_view(\n",
    "    dataset_uid=\"A\",\n",
    "    component=\"featureList\",\n",
    "    x=10,\n",
    "    y=0,\n",
    "    w=2,\n",
    "    h=5,\n",
    "    props={\"variablesLabelOverride\": \"antigen\"},\n",
    ").add_view(\n",
    "    dataset_uid=\"A\",\n",
    "    component=\"heatmap\",\n",
    "    x=3,\n",
    "    y=8,\n",
    "    w=7,\n",
    "    h=4,\n",
    "    props={\"variablesLabelOverride\": \"antigen\", \"transpose\": True},\n",
    ")\n",
    "\n",
    "conf.widget()"
   ]
  },
  {
   "cell_type": "markdown",
   "metadata": {},
   "source": [
    "You can find more examples and information in this [Vitessce tutorial](https://github.com/vitessce/vitessce-python-tutorial)."
   ]
  }
 ],
 "metadata": {
  "kernelspec": {
   "display_name": ".venv",
   "language": "python",
   "name": "python3"
  },
  "language_info": {
   "codemirror_mode": {
    "name": "ipython",
    "version": 3
   },
   "file_extension": ".py",
   "mimetype": "text/x-python",
   "name": "python",
   "nbconvert_exporter": "python",
   "pygments_lexer": "ipython3",
   "version": "3.11.4"
  }
 },
 "nbformat": 4,
 "nbformat_minor": 2
}
